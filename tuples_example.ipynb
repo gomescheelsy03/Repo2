{
  "nbformat": 4,
  "nbformat_minor": 0,
  "metadata": {
    "colab": {
      "provenance": [],
      "authorship_tag": "ABX9TyO3TH/1F07cM4ORa+GThFdw",
      "include_colab_link": true
    },
    "kernelspec": {
      "name": "python3",
      "display_name": "Python 3"
    },
    "language_info": {
      "name": "python"
    }
  },
  "cells": [
    {
      "cell_type": "markdown",
      "metadata": {
        "id": "view-in-github",
        "colab_type": "text"
      },
      "source": [
        "<a href=\"https://colab.research.google.com/github/gomescheelsy03/Repo2/blob/main/tuples_example.ipynb\" target=\"_parent\"><img src=\"https://colab.research.google.com/assets/colab-badge.svg\" alt=\"Open In Colab\"/></a>"
      ]
    },
    {
      "cell_type": "code",
      "execution_count": 1,
      "metadata": {
        "colab": {
          "base_uri": "https://localhost:8080/"
        },
        "id": "D4rT5SyqtDAt",
        "outputId": "c58e4a61-a010-423c-cd54-2a1d6fcef752"
      },
      "outputs": [
        {
          "output_type": "stream",
          "name": "stdout",
          "text": [
            "Sample Tuple: (1, 'hello', 3.14, (2, 4, 6))\n",
            "\n",
            "Element at index 1: hello\n",
            "\n",
            "Concatenated Tuple: (1, 2, 3, 'a', 'b', 'c')\n",
            "\n",
            "Repeated Tuple: (1, 2, 3, 1, 2, 3, 1, 2, 3)\n",
            "\n",
            "Single Element Tuple: (1,)\n",
            "\n",
            "Converted Tuple: (1, 2, 3, 4, 5)\n",
            "\n",
            "End of Tuple Exploration.\n"
          ]
        }
      ],
      "source": [
        "#author: Chelsy Gomes\n",
        "# Exploring Python Tuples\n",
        "\n",
        "# Creating a Tuple\n",
        "sample_tuple = (1, 'hello', 3.14, (2, 4, 6))\n",
        "\n",
        "# Displaying the Tuple\n",
        "print(\"Sample Tuple:\", sample_tuple)\n",
        "\n",
        "# Accessing elements using indexing\n",
        "print(\"\\nElement at index 1:\", sample_tuple[1])\n",
        "\n",
        "# Concatenating Tuples\n",
        "tuple1 = (1, 2, 3)\n",
        "tuple2 = ('a', 'b', 'c')\n",
        "concatenated_tuple = tuple1 + tuple2\n",
        "print(\"\\nConcatenated Tuple:\", concatenated_tuple)\n",
        "\n",
        "# Repeating Tuples\n",
        "repeated_tuple = tuple1 * 3\n",
        "print(\"\\nRepeated Tuple:\", repeated_tuple)\n",
        "\n",
        "# Creating a Single-Element Tuple\n",
        "single_element_tuple = (1,)\n",
        "print(\"\\nSingle Element Tuple:\", single_element_tuple)\n",
        "\n",
        "# Confirming Immutability\n",
        "# Uncommenting the next line will raise an error since tuple is immutable\n",
        "# sample_tuple[1] = 'world'\n",
        "\n",
        "# Converting a list to a tuple\n",
        "sample_list = [1, 2, 3, 4, 5]\n",
        "converted_tuple = tuple(sample_list)\n",
        "print(\"\\nConverted Tuple:\", converted_tuple)\n",
        "\n",
        "print(\"\\nEnd of Tuple Exploration.\")\n"
      ]
    }
  ]
}