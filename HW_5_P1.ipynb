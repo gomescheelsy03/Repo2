{
  "nbformat": 4,
  "nbformat_minor": 0,
  "metadata": {
    "colab": {
      "provenance": [],
      "authorship_tag": "ABX9TyPZz/g0d5iTtQpYq3LwLnyE",
      "include_colab_link": true
    },
    "kernelspec": {
      "name": "python3",
      "display_name": "Python 3"
    },
    "language_info": {
      "name": "python"
    }
  },
  "cells": [
    {
      "cell_type": "markdown",
      "metadata": {
        "id": "view-in-github",
        "colab_type": "text"
      },
      "source": [
        "<a href=\"https://colab.research.google.com/github/gomescheelsy03/Repo2/blob/main/HW_5_P1.ipynb\" target=\"_parent\"><img src=\"https://colab.research.google.com/assets/colab-badge.svg\" alt=\"Open In Colab\"/></a>"
      ]
    },
    {
      "cell_type": "code",
      "execution_count": 1,
      "metadata": {
        "colab": {
          "base_uri": "https://localhost:8080/"
        },
        "id": "2zsCgN8PHvzh",
        "outputId": "f36ebae1-8e31-4d17-d770-00aee405e76b"
      },
      "outputs": [
        {
          "output_type": "stream",
          "name": "stdout",
          "text": [
            "Name: Gary\n",
            "Homework: [90.0, 97.0, 75.0, 92.0]\n",
            "Quizzes: [88.0, 40.0, 94.0]\n",
            "Tests: [75.0, 90.0]\n",
            "\n",
            "Name: Alice\n",
            "Homework: [100.0, 92.0, 98.0, 100.0]\n",
            "Quizzes: [82.0, 83.0, 91.0]\n",
            "Tests: [89.0, 97.0]\n",
            "\n",
            "Name: Tyler\n",
            "Homework: [0.0, 87.0, 75.0, 22.0]\n",
            "Quizzes: [0.0, 75.0, 78.0]\n",
            "Tests: [100.0, 100.0]\n",
            "\n",
            "Gary\n",
            "Homework Average: 88.5\n",
            "Quiz Average: 74.0\n",
            "Test Average: 82.5\n",
            "\n",
            "Alice\n",
            "Homework Average: 97.5\n",
            "Quiz Average: 85.33333333333333\n",
            "Test Average: 93.0\n",
            "\n",
            "Tyler\n",
            "Homework Average: 46.0\n",
            "Quiz Average: 51.0\n",
            "Test Average: 100.0\n",
            "\n"
          ]
        }
      ],
      "source": [
        "# Author: Chelsy Gomes\n",
        "#Due:10/04/2023\n",
        "#Program 1\n",
        "\n",
        "# Dictionaries for Gary, Alice, and Tyler\n",
        "Gary = {\n",
        "  \"name\": \"Gary\",\n",
        "  \"homework\": [90.0,97.0,75.0,92.0],\n",
        "  \"quizzes\": [88.0,40.0,94.0],\n",
        "  \"tests\": [75.0,90.0]\n",
        "}\n",
        "\n",
        "Alice = {\n",
        "  \"name\": \"Alice\",\n",
        "  \"homework\": [100.0, 92.0, 98.0, 100.0],\n",
        "  \"quizzes\": [82.0, 83.0, 91.0],\n",
        "  \"tests\": [89.0, 97.0]\n",
        "}\n",
        "\n",
        "Tyler = {\n",
        "  \"name\": \"Tyler\",\n",
        "  \"homework\": [0.0, 87.0, 75.0, 22.0],\n",
        "  \"quizzes\": [0.0, 75.0, 78.0],\n",
        "  \"tests\": [100.0, 100.0]\n",
        "}\n",
        "\n",
        "# Function to display student data\n",
        "def display_student_data(student):\n",
        "    print(\"Name:\", student[\"name\"])\n",
        "    print(\"Homework:\", student[\"homework\"])\n",
        "    print(\"Quizzes:\", student[\"quizzes\"])\n",
        "    print(\"Tests:\", student[\"tests\"])\n",
        "    print()\n",
        "\n",
        "# Display data for each student\n",
        "display_student_data(Gary)\n",
        "display_student_data(Alice)\n",
        "display_student_data(Tyler)\n",
        "\n",
        "# Function to calculate average\n",
        "def average(numbers):\n",
        "    return sum(numbers) / len(numbers)\n",
        "\n",
        "# Displaying the averages for each student's assignments\n",
        "for student in [Gary, Alice, Tyler]:\n",
        "    print(student[\"name\"])\n",
        "    print(\"Homework Average:\", average(student[\"homework\"]))\n",
        "    print(\"Quiz Average:\", average(student[\"quizzes\"]))\n",
        "    print(\"Test Average:\", average(student[\"tests\"]))\n",
        "    print()\n"
      ]
    }
  ]
}