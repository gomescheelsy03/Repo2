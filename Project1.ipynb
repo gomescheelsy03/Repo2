{
  "cells": [
    {
      "cell_type": "markdown",
      "metadata": {
        "id": "view-in-github",
        "colab_type": "text"
      },
      "source": [
        "<a href=\"https://colab.research.google.com/github/gomescheelsy03/Repo2/blob/main/Project1.ipynb\" target=\"_parent\"><img src=\"https://colab.research.google.com/assets/colab-badge.svg\" alt=\"Open In Colab\"/></a>"
      ]
    },
    {
      "cell_type": "code",
      "execution_count": null,
      "metadata": {
        "id": "rbSB_yHbZ8KX"
      },
      "outputs": [],
      "source": [
        "#Name:Chelsy Gomes\n",
        "#CMSC-206-22213\n",
        "#Due date:09/13/2023\n",
        "#Instructor: Gary Thai\n",
        "#Project 1\n",
        "# Description: This script is a number converter utility that can perform various base conversions within the range of 0 to 2048\n",
        "\n",
        "# Infinite loop to keep the program running until the user decides to exit\n",
        "while True:\n",
        "    # Displaying the conversion options to the user\n",
        "    print(\"Number Converter -> Convert a number (between 0 and 2048) from/to different bases:\")\n",
        "    print(\"Enter 1 -- Decimal to Hexadecimal\")\n",
        "    print(\"Enter 2 -- Decimal to Octal\")\n",
        "    print(\"Enter 3 -- Decimal to Binary\")\n",
        "    print(\"Enter 4 -- Octal to Decimal\")\n",
        "    print(\"Enter 5 -- Binary to Decimal\")\n",
        "    print(\"Enter X -- Exit\")\n",
        "\n",
        "    # Prompting the user to select a conversion option\n",
        "    userInput = input(\"Enter your choice: \")\n",
        "\n",
        "    # Checking if the user selected one of the conversion options\n",
        "    if userInput in ['1', '2', '3', '4', '5']:\n",
        "        # Prompting the user to input a number for conversion\n",
        "        userNumber = input(\"Enter a number: \")\n",
        "\n",
        "        try:\n",
        "            # Adding appropriate prefixes for octal and binary conversions to decimal\n",
        "            if userInput == '4':\n",
        "                userNumber = '0o' + userNumber\n",
        "            elif userInput == '5':\n",
        "                userNumber = '0b' + userNumber\n",
        "\n",
        "            # Converting the user input to an integer (detects invalid inputs)\n",
        "            userNumber = int(userNumber, 0)\n",
        "\n",
        "            # Checking if the user input is within the valid range (0-2048)\n",
        "            if userNumber < 0 or userNumber > 2048:\n",
        "                raise ValueError\n",
        "\n",
        "            # Performing the selected conversion and displaying the result\n",
        "            if userInput == '1':\n",
        "                print(hex(userNumber))  # Decimal to Hexadecimal\n",
        "            elif userInput == '2':\n",
        "                print(oct(userNumber))  # Decimal to Octal\n",
        "            elif userInput == '3':\n",
        "                print(bin(userNumber))  # Decimal to Binary\n",
        "            else:\n",
        "                print(userNumber)       # Octal/Binary to Decimal\n",
        "\n",
        "        except ValueError:\n",
        "            # Handling invalid inputs (out of range or non-numeric)\n",
        "            print(\"Invalid input value. Try again\")\n",
        "\n",
        "    # Exiting the program if the user selects the exit option\n",
        "    elif userInput.upper() == 'X':\n",
        "        break\n",
        "    else:\n",
        "        # Displaying an error message for invalid menu selections\n",
        "        print(\"Invalid choice\")\n"
      ]
    }
  ],
  "metadata": {
    "colab": {
      "provenance": [],
      "authorship_tag": "ABX9TyM4HGSbqWmMxL1glYJsbMmf",
      "include_colab_link": true
    },
    "kernelspec": {
      "display_name": "Python 3",
      "name": "python3"
    },
    "language_info": {
      "name": "python"
    }
  },
  "nbformat": 4,
  "nbformat_minor": 0
}