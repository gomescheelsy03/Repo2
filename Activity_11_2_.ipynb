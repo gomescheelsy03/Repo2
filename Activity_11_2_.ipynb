{
  "nbformat": 4,
  "nbformat_minor": 0,
  "metadata": {
    "colab": {
      "provenance": [],
      "authorship_tag": "ABX9TyM2KW66R0a2mP/8PRDoVzry",
      "include_colab_link": true
    },
    "kernelspec": {
      "name": "python3",
      "display_name": "Python 3"
    },
    "language_info": {
      "name": "python"
    }
  },
  "cells": [
    {
      "cell_type": "markdown",
      "metadata": {
        "id": "view-in-github",
        "colab_type": "text"
      },
      "source": [
        "<a href=\"https://colab.research.google.com/github/gomescheelsy03/Repo2/blob/main/Activity_11_2_.ipynb\" target=\"_parent\"><img src=\"https://colab.research.google.com/assets/colab-badge.svg\" alt=\"Open In Colab\"/></a>"
      ]
    },
    {
      "cell_type": "code",
      "execution_count": null,
      "metadata": {
        "colab": {
          "base_uri": "https://localhost:8080/"
        },
        "id": "_8qc5oS0s9LK",
        "outputId": "cf3d25d8-f187-435b-f097-bcf61f5b35af"
      },
      "outputs": [
        {
          "output_type": "stream",
          "name": "stdout",
          "text": [
            "Requirement already satisfied: requests in /usr/local/lib/python3.10/dist-packages (2.31.0)\n",
            "Collecting newsapi-python\n",
            "  Downloading newsapi_python-0.2.7-py2.py3-none-any.whl (7.9 kB)\n",
            "Requirement already satisfied: gensim in /usr/local/lib/python3.10/dist-packages (4.3.2)\n",
            "Requirement already satisfied: charset-normalizer<4,>=2 in /usr/local/lib/python3.10/dist-packages (from requests) (3.3.2)\n",
            "Requirement already satisfied: idna<4,>=2.5 in /usr/local/lib/python3.10/dist-packages (from requests) (3.4)\n",
            "Requirement already satisfied: urllib3<3,>=1.21.1 in /usr/local/lib/python3.10/dist-packages (from requests) (2.0.7)\n",
            "Requirement already satisfied: certifi>=2017.4.17 in /usr/local/lib/python3.10/dist-packages (from requests) (2023.7.22)\n",
            "Requirement already satisfied: numpy>=1.18.5 in /usr/local/lib/python3.10/dist-packages (from gensim) (1.23.5)\n",
            "Requirement already satisfied: scipy>=1.7.0 in /usr/local/lib/python3.10/dist-packages (from gensim) (1.11.3)\n",
            "Requirement already satisfied: smart-open>=1.8.1 in /usr/local/lib/python3.10/dist-packages (from gensim) (6.4.0)\n",
            "Installing collected packages: newsapi-python\n",
            "Successfully installed newsapi-python-0.2.7\n"
          ]
        }
      ],
      "source": [
        "!pip install requests newsapi-python gensim\n"
      ]
    },
    {
      "cell_type": "code",
      "source": [
        "!pip install pycountry\n"
      ],
      "metadata": {
        "colab": {
          "base_uri": "https://localhost:8080/"
        },
        "id": "1n3OyFTwuNUg",
        "outputId": "42d6be3e-e3ed-4211-fb7d-5c76c0e38391"
      },
      "execution_count": null,
      "outputs": [
        {
          "output_type": "stream",
          "name": "stdout",
          "text": [
            "Collecting pycountry\n",
            "  Downloading pycountry-22.3.5.tar.gz (10.1 MB)\n",
            "\u001b[2K     \u001b[90m━━━━━━━━━━━━━━━━━━━━━━━━━━━━━━━━━━━━━━━━\u001b[0m \u001b[32m10.1/10.1 MB\u001b[0m \u001b[31m48.3 MB/s\u001b[0m eta \u001b[36m0:00:00\u001b[0m\n",
            "\u001b[?25h  Installing build dependencies ... \u001b[?25l\u001b[?25hdone\n",
            "  Getting requirements to build wheel ... \u001b[?25l\u001b[?25hdone\n",
            "  Preparing metadata (pyproject.toml) ... \u001b[?25l\u001b[?25hdone\n",
            "Requirement already satisfied: setuptools in /usr/local/lib/python3.10/dist-packages (from pycountry) (67.7.2)\n",
            "Building wheels for collected packages: pycountry\n",
            "  Building wheel for pycountry (pyproject.toml) ... \u001b[?25l\u001b[?25hdone\n",
            "  Created wheel for pycountry: filename=pycountry-22.3.5-py2.py3-none-any.whl size=10681832 sha256=701586978d010137f3dfd87d7a453549df948c02a1ce4ecbe63339621ba5502c\n",
            "  Stored in directory: /root/.cache/pip/wheels/03/57/cc/290c5252ec97a6d78d36479a3c5e5ecc76318afcb241ad9dbe\n",
            "Successfully built pycountry\n",
            "Installing collected packages: pycountry\n",
            "Successfully installed pycountry-22.3.5\n"
          ]
        }
      ]
    },
    {
      "cell_type": "code",
      "source": [
        "!pip install pycountry\n",
        "!pip install newsapi-python\n",
        "\n",
        "import requests\n",
        "from newsapi import NewsApiClient\n",
        "import pycountry\n",
        "\n",
        "# Initialize News API with your API key\n",
        "newsapi = NewsApiClient(api_key='7fad4914295945d7909c73216c2940c3')\n",
        "\n",
        "def fetch_news(country, category):\n",
        "    # Correct common country names to their official names\n",
        "    country_corrections = {\n",
        "        'USA': 'United States',\n",
        "        'UK': 'United Kingdom'\n",
        "    }\n",
        "    # Apply corrections if necessary\n",
        "    country = country_corrections.get(country, country)\n",
        "\n",
        "    # Convert country name to country code\n",
        "    try:\n",
        "        country_code = pycountry.countries.lookup(country).alpha_2\n",
        "    except LookupError:\n",
        "        return \"Invalid country name\"\n",
        "\n",
        "    # Fetch top headlines\n",
        "    top_headlines = newsapi.get_top_headlines(category=category.lower(), language='en', country=country_code.lower())\n",
        "\n",
        "    if not top_headlines.get('articles'):\n",
        "        return \"No articles found.\"\n",
        "\n",
        "    headlines = top_headlines['articles']\n",
        "    return [article['title'] for article in headlines]\n",
        "\n",
        "# Example usage\n",
        "country_input = \"USA\"  # Correctly using \"USA\" as input now\n",
        "category_input = \"Technology\"  # User input for category\n",
        "\n",
        "news_headlines = fetch_news(country_input, category_input)\n",
        "\n",
        "if isinstance(news_headlines, list):\n",
        "    print(\"Top headlines:\")\n",
        "    for i, title in enumerate(news_headlines, 1):\n",
        "        print(f\"{i}. {title}\")\n",
        "else:\n",
        "    print(news_headlines)\n"
      ],
      "metadata": {
        "id": "R-BGKmgjuUoz",
        "outputId": "81149440-7ecc-4109-8fc9-e650692d2264",
        "colab": {
          "base_uri": "https://localhost:8080/"
        }
      },
      "execution_count": 5,
      "outputs": [
        {
          "output_type": "stream",
          "name": "stdout",
          "text": [
            "Requirement already satisfied: pycountry in /usr/local/lib/python3.10/dist-packages (22.3.5)\n",
            "Requirement already satisfied: setuptools in /usr/local/lib/python3.10/dist-packages (from pycountry) (67.7.2)\n",
            "Requirement already satisfied: newsapi-python in /usr/local/lib/python3.10/dist-packages (0.2.7)\n",
            "Requirement already satisfied: requests<3.0.0 in /usr/local/lib/python3.10/dist-packages (from newsapi-python) (2.31.0)\n",
            "Requirement already satisfied: charset-normalizer<4,>=2 in /usr/local/lib/python3.10/dist-packages (from requests<3.0.0->newsapi-python) (3.3.2)\n",
            "Requirement already satisfied: idna<4,>=2.5 in /usr/local/lib/python3.10/dist-packages (from requests<3.0.0->newsapi-python) (3.4)\n",
            "Requirement already satisfied: urllib3<3,>=1.21.1 in /usr/local/lib/python3.10/dist-packages (from requests<3.0.0->newsapi-python) (2.0.7)\n",
            "Requirement already satisfied: certifi>=2017.4.17 in /usr/local/lib/python3.10/dist-packages (from requests<3.0.0->newsapi-python) (2023.7.22)\n",
            "Top headlines:\n",
            "1. ownCloud vulnerability with maximum 10 severity score comes under “mass” exploitation - Ars Technica\n",
            "2. Bethesda Gets Defensive About Starfield’s Negative Steam Reviews - IGN Daily Fix - IGN\n",
            "3. 60 Games Have Already Been Killed, And 2023 Ain't Over Yet - Kotaku\n",
            "4. Capcom makes Dragon's Dogma 2's March 2024 release date official following leaks - Eurogamer.net\n",
            "5. Overwatch 2 Is Stripping Away What Made Mythic Skins Worth The Grind - Kotaku\n",
            "6. Amazon's new Echo Frames are lighter, louder, and start shipping next week - The Verge\n",
            "7. Gift these winning items to the tech-lovers in your life - TODAY\n",
            "8. YouTube's in-app games are live for some Premium subscribers - Android Police\n",
            "9. Xbox is teasing 'important announcements' for December's Game Awards | VGC - Video Games Chronicle\n",
            "10. Police warn parents about a dangerous new iPhone feature - TheStreet\n",
            "11. Google Drive users say Google lost their files; Google is investigating - Ars Technica\n",
            "12. Apple Watch Series 9 vs. Ultra 2: don’t make a mistake - Digital Trends\n",
            "13. Best Buy Kicks Off 20 Days of Holiday Deals Event With Discounts on MacBook Air and More - MacRumors\n",
            "14. Ayaneo's Macintosh-inspired mini PC starts at $149 with internals to match - Engadget\n",
            "15. iOS 17.2 Beta Adds Option to Change Default Notification Sound and Haptics - MacRumors\n",
            "16. Apple users warned about fake update that steals money, passwords - New York Post \n",
            "17. Samsung Internet shows up on Microsoft Store, available for Windows PC - 9to5Google\n",
            "18. Baldur's Gate 3 bug caused by game's endless mulling of evil deeds - Ars Technica\n",
            "19. The Batman's Robert Pattinson Suit Will Come With Arkham Trilogy On Switch - Game Informer\n",
            "20. Preview: Paizo’s first new rulebook since completely abandoning D&D - Polygon\n"
          ]
        }
      ]
    }
  ]
}