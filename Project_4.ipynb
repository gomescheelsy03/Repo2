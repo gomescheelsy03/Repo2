{
  "nbformat": 4,
  "nbformat_minor": 0,
  "metadata": {
    "colab": {
      "provenance": [],
      "toc_visible": true,
      "authorship_tag": "ABX9TyOenGlpAoQb1kdqjnMZt7Kd",
      "include_colab_link": true
    },
    "kernelspec": {
      "name": "python3",
      "display_name": "Python 3"
    },
    "language_info": {
      "name": "python"
    }
  },
  "cells": [
    {
      "cell_type": "markdown",
      "metadata": {
        "id": "view-in-github",
        "colab_type": "text"
      },
      "source": [
        "<a href=\"https://colab.research.google.com/github/gomescheelsy03/Repo2/blob/main/Project_4.ipynb\" target=\"_parent\"><img src=\"https://colab.research.google.com/assets/colab-badge.svg\" alt=\"Open In Colab\"/></a>"
      ]
    },
    {
      "cell_type": "code",
      "source": [
        "!pip install wordcloud nltk readability-lxml\n"
      ],
      "metadata": {
        "id": "wSjX7l029N8s"
      },
      "execution_count": null,
      "outputs": []
    },
    {
      "cell_type": "code",
      "source": [
        "import nltk\n",
        "from nltk.tokenize import word_tokenize, sent_tokenize\n",
        "from collections import Counter\n",
        "from wordcloud import WordCloud\n",
        "import matplotlib.pyplot as plt\n",
        "from readability.readability import Document\n",
        "from google.colab import files\n"
      ],
      "metadata": {
        "id": "z6YSifR69aq8"
      },
      "execution_count": 4,
      "outputs": []
    },
    {
      "cell_type": "code",
      "source": [
        "nltk.download('punkt')\n",
        "nltk.download('stopwords')\n",
        "from nltk.corpus import stopwords\n",
        "\n",
        "stop_words = set(stopwords.words('english'))\n"
      ],
      "metadata": {
        "id": "cq7STZiO9dR4"
      },
      "execution_count": null,
      "outputs": []
    },
    {
      "cell_type": "code",
      "source": [
        "def read_file():\n",
        "    uploaded = files.upload()\n",
        "    filename = list(uploaded.keys())[0]\n",
        "    return uploaded[filename].decode('utf-8')\n"
      ],
      "metadata": {
        "id": "MZCJx87U95ba"
      },
      "execution_count": 6,
      "outputs": []
    },
    {
      "cell_type": "code",
      "source": [
        "def preprocess_text(text):\n",
        "    words = word_tokenize(text.lower())\n",
        "    sentences = sent_tokenize(text)\n",
        "    words = [word for word in words if word.isalpha() and word not in stop_words]\n",
        "    return words, sentences\n"
      ],
      "metadata": {
        "id": "YC3toING98h7"
      },
      "execution_count": 7,
      "outputs": []
    },
    {
      "cell_type": "code",
      "source": [
        "def get_statistics(words, sentences):\n",
        "    word_count = len(words)\n",
        "    avg_word_length = sum(len(word) for word in words) / word_count\n",
        "    avg_sent_length = word_count / len(sentences)\n",
        "    top_10_words = Counter(words).most_common(10)\n",
        "    return word_count, avg_word_length, avg_sent_length, top_10_words\n"
      ],
      "metadata": {
        "id": "4dDylPaW9_Tu"
      },
      "execution_count": 8,
      "outputs": []
    },
    {
      "cell_type": "code",
      "source": [
        "def generate_wordcloud(words):\n",
        "    wc = WordCloud(width=800, height=800, background_color='white').generate(\" \".join(words))\n",
        "    plt.imshow(wc, interpolation='bilinear')\n",
        "    plt.axis('off')\n",
        "    plt.show()\n"
      ],
      "metadata": {
        "id": "NxjzaoIK-C18"
      },
      "execution_count": 18,
      "outputs": []
    },
    {
      "cell_type": "code",
      "source": [
        "def get_readability_summary(text):\n",
        "    doc = Document(text)\n",
        "    return doc.summary()\n"
      ],
      "metadata": {
        "id": "XTQMHEIW-EJY"
      },
      "execution_count": 17,
      "outputs": []
    },
    {
      "cell_type": "code",
      "source": [
        "# Required Libraries for Google Colab File Upload\n",
        "from google.colab import files\n",
        "import io\n",
        "\n",
        "def upload_files():\n",
        "    \"\"\"Upload files in Google Colab.\"\"\"\n",
        "    uploaded = files.upload()\n",
        "    return uploaded\n",
        "\n",
        "def process_speech(file_content):\n",
        "    \"\"\"Process the speech, analyze, generate statistics and word cloud.\"\"\"\n",
        "    # Implement the analysis, statistics, word cloud generation, etc.\n",
        "    pass\n",
        "\n",
        "def main():\n",
        "    \"\"\"Main function to handle the workflow.\"\"\"\n",
        "    print(\"Please upload one or more State of the Union speech text files.\")\n",
        "\n",
        "    # Step 1: Upload files\n",
        "    uploaded_files = upload_files()\n",
        "\n",
        "    # Step 2: Loop through each file and process\n",
        "    for filename, content in uploaded_files.items():\n",
        "        print(f\"\\nProcessing {filename}...\")\n",
        "        process_speech(content.decode(\"utf-8\"))\n",
        "        # Note: Use content.decode(\"utf-8\") to convert bytes to string for processing.\n",
        "\n",
        "    # Step 3: Extend with any other functionalities (e.g. comparative analysis, saving results, etc.)\n",
        "\n",
        "if __name__ == \"__main__\":\n",
        "    main()\n"
      ],
      "metadata": {
        "id": "udAZFTrL-2fB"
      },
      "execution_count": null,
      "outputs": []
    },
    {
      "cell_type": "code",
      "source": [
        "\"\"\"\n",
        "Author: Chelsy Gomes\n",
        "Description: Analyze text files for readability and various statistics.\n",
        "\"\"\"\n",
        "\n",
        "import nltk\n",
        "from collections import Counter\n",
        "\n",
        "nltk.download('stopwords')\n",
        "from nltk.corpus import stopwords\n",
        "\n",
        "STOPWORDS = set(stopwords.words('english'))\n",
        "\n",
        "def syllable_count(word):\n",
        "    \"\"\"Calculate the number of syllables in a word.\"\"\"\n",
        "    count = 0\n",
        "    vowels = \"aeiouy\"\n",
        "    word = word.lower()\n",
        "\n",
        "    if word[0] in vowels:\n",
        "        count += 1\n",
        "\n",
        "    for index in range(1, len(word)):\n",
        "        if word[index] in vowels and word[index - 1] not in vowels:\n",
        "            count += 1\n",
        "\n",
        "    if word.endswith(\"e\"):\n",
        "        count -= 1\n",
        "\n",
        "    if count == 0:\n",
        "        count += 1\n",
        "\n",
        "    return count\n",
        "\n",
        "def main():\n",
        "    \"\"\"Main function for analyzing the text file.\"\"\"\n",
        "    name = input(\"Enter the filename (e.g., JFK.txt) to analyze: \")\n",
        "\n",
        "    with open(name, \"r\") as file:\n",
        "        content = file.read()\n",
        "\n",
        "    sentences = content.splitlines()\n",
        "    total_sentences = len(sentences)\n",
        "\n",
        "    # Filter out stopwords\n",
        "    words = [word for sentence in sentences for word in sentence.split() if word.lower() not in STOPWORDS]\n",
        "    total_words = len(words)\n",
        "\n",
        "    total_syllables = sum(syllable_count(word) for word in words)\n",
        "\n",
        "    readability = 206.835 - 1.015 * (total_words/total_sentences) - 84.6 * (total_syllables/total_words)\n",
        "\n",
        "    avg_word_length = sum(len(word) for word in words) / total_words\n",
        "\n",
        "    word_frequencies = Counter(words)\n",
        "\n",
        "    # Display statistics\n",
        "    print(f\"\\nTotal Words: {total_words}\")\n",
        "    print(f\"Average Word Length: {avg_word_length:.2f} characters\")\n",
        "    print(f\"Average Sentence Length: {total_words/total_sentences:.2f} words\")\n",
        "    print(\"\\nTop 10 Most Frequent Words:\")\n",
        "    for word, freq in word_frequencies.most_common(10):\n",
        "        print(f\"{word}: {freq}\")\n",
        "    print(f\"\\nReadability Score: {readability:.2f}\")\n",
        "\n",
        "if __name__ == \"__main__\":\n",
        "    main()\n"
      ],
      "metadata": {
        "id": "YApo8ol4DQ2u"
      },
      "execution_count": null,
      "outputs": []
    }
  ]
}