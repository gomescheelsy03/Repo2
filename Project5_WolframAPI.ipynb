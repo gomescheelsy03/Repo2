{
  "nbformat": 4,
  "nbformat_minor": 0,
  "metadata": {
    "colab": {
      "provenance": [],
      "authorship_tag": "ABX9TyNroACEfEHiHqrsOiNZT7uY",
      "include_colab_link": true
    },
    "kernelspec": {
      "name": "python3",
      "display_name": "Python 3"
    },
    "language_info": {
      "name": "python"
    }
  },
  "cells": [
    {
      "cell_type": "markdown",
      "metadata": {
        "id": "view-in-github",
        "colab_type": "text"
      },
      "source": [
        "<a href=\"https://colab.research.google.com/github/gomescheelsy03/Repo2/blob/main/Project5_WolframAPI.ipynb\" target=\"_parent\"><img src=\"https://colab.research.google.com/assets/colab-badge.svg\" alt=\"Open In Colab\"/></a>"
      ]
    },
    {
      "cell_type": "code",
      "execution_count": 17,
      "metadata": {
        "id": "dFFWzC_fCLad"
      },
      "outputs": [],
      "source": [
        "!pip install wolframalpha\n"
      ]
    },
    {
      "cell_type": "code",
      "source": [
        "# Import Required Libraries\n",
        "# We need 'requests' to make HTTP requests to the Wolfram Alpha API,\n",
        "# 'urllib.parse' to encode URL parameters correctly,\n",
        "# and 'Image' and 'display' from IPython to display images in the notebook.\n",
        "import requests\n",
        "import urllib.parse\n",
        "from IPython.display import Image, display\n"
      ],
      "metadata": {
        "id": "TDdm77SEEzuO"
      },
      "execution_count": 43,
      "outputs": []
    },
    {
      "cell_type": "code",
      "source": [
        "# Define Functions for API Calls and Response Handling\n",
        "\n",
        "# Function to call the Wolfram Alpha Full Results API\n",
        "def call_wolfram_alpha(query, appid):\n",
        "    \"\"\"\n",
        "    Makes an API call to the Wolfram Alpha Full Results API and returns the JSON response.\n",
        "    Parameters:\n",
        "    - query: A string containing the user query\n",
        "    - appid: A string containing the Wolfram Alpha app ID\n",
        "    Returns a JSON object with the full API response.\n",
        "    \"\"\"\n",
        "    # Construct the query URL\n",
        "    query_url = f\"http://api.wolframalpha.com/v2/query?\" \\\n",
        "                f\"appid={appid}&input={urllib.parse.quote_plus(query)}&format=plaintext&output=json\"\n",
        "    # Make the request and return the JSON response\n",
        "    response = requests.get(query_url)\n",
        "    response.raise_for_status()  # Will raise an exception for HTTP errors\n",
        "    return response.json()\n",
        "\n",
        "# Function to extract and print relevant information from the Wolfram Alpha API response\n",
        "def extract_information(response):\n",
        "    \"\"\"\n",
        "    Parses the JSON response from the Wolfram Alpha API to extract and print the relevant information.\n",
        "    Parameters:\n",
        "    - response: A JSON object containing the Wolfram Alpha API response\n",
        "    Prints the result or an error message if the expected data isn't present.\n",
        "    \"\"\"\n",
        "    # Check if 'queryresult' and 'pods' keys are in the response\n",
        "    if 'queryresult' in response and 'pods' in response['queryresult']:\n",
        "        try:\n",
        "            # Extract the relevant information\n",
        "            data = response[\"queryresult\"][\"pods\"][1][\"subpods\"][0]\n",
        "            plaintext = data[\"plaintext\"]\n",
        "            # Print the extracted information\n",
        "            print(f\"Result: {plaintext}\")\n",
        "        except (IndexError, KeyError):\n",
        "            print(\"Could not find the information in the API response.\")\n",
        "    else:\n",
        "        print(\"The API response does not contain the expected 'pods' data.\")\n",
        "\n",
        "# Function to get a short answer from Wolfram Alpha API\n",
        "def get_short_answer(query, appid):\n",
        "    \"\"\"\n",
        "    Makes an API call to the Wolfram Alpha Short Answers API to get a concise text response.\n",
        "    Parameters:\n",
        "    - query: A string containing the user query\n",
        "    - appid: A string containing the Wolfram Alpha app ID\n",
        "    Returns a string with a short answer.\n",
        "    \"\"\"\n",
        "    # Construct the query URL for the Short Answers API\n",
        "    query_url = f\"http://api.wolframalpha.com/v1/result?\" \\\n",
        "                f\"appid={appid}&i={urllib.parse.quote_plus(query)}\"\n",
        "    # Make the request and return the text response\n",
        "    response = requests.get(query_url)\n",
        "    response.raise_for_status()  # Will raise an exception for HTTP errors\n",
        "    return response.text\n",
        "\n",
        "# Function to get an image response from Wolfram Alpha API\n",
        "def get_simple_api_image(query, appid):\n",
        "    \"\"\"\n",
        "    Makes an API call to the Wolfram Alpha Simple API to get an image response.\n",
        "    Parameters:\n",
        "    - query: A string containing the user query\n",
        "    - appid: A string containing the Wolfram Alpha app ID\n",
        "    Returns the image data or None if there's an error.\n",
        "    \"\"\"\n",
        "    # Construct the query URL for the Simple API\n",
        "    query_url = f\"http://api.wolframalpha.com/v1/simple?\" \\\n",
        "                f\"appid={appid}&i={urllib.parse.quote_plus(query)}\"\n",
        "    # Make the request and return the image data\n",
        "    response = requests.get(query_url)\n",
        "    response.raise_for_status()  # Will raise an exception for HTTP errors\n",
        "    return response.content\n"
      ],
      "metadata": {
        "id": "og-bjclRE4UV"
      },
      "execution_count": 45,
      "outputs": []
    },
    {
      "cell_type": "code",
      "source": [
        "# Set Up API Key and Example Query\n",
        "# Replace the placeholder string with your actual API key.\n",
        "appid = '8QQX7Q-677PP7WGAG'  # Your Wolfram Alpha API key.\n"
      ],
      "metadata": {
        "id": "H694Pw86FReY"
      },
      "execution_count": 46,
      "outputs": []
    },
    {
      "cell_type": "code",
      "source": [
        "# Full Results API Example\n",
        "# Here we use the 'call_wolfram_alpha' function to make an API call and then\n",
        "# pass the response to 'extract_information' to print the result.\n",
        "response = call_wolfram_alpha(\"What is the speed of light?\", appid)\n",
        "extract_information(response)\n"
      ],
      "metadata": {
        "id": "UmESTx1JFUOA"
      },
      "execution_count": null,
      "outputs": []
    },
    {
      "cell_type": "code",
      "source": [
        "# Short Answers API Example\n",
        "# We ask the API for a short, concise answer to the query \"distance from Earth to Mars\".\n",
        "short_answer = get_short_answer(\"Current president of the United States\", appid)\n",
        "print(\"Short Answer:\", short_answer)\n"
      ],
      "metadata": {
        "id": "-CDaEopSf1Qk"
      },
      "execution_count": null,
      "outputs": []
    },
    {
      "cell_type": "code",
      "source": [
        "# Simple API Example\n",
        "# This cell is for getting a visual response (like a graph or chart) from the API.\n",
        "# We use the 'get_simple_api_image' function and then display the image with 'display'.\n",
        "image_data = get_simple_api_image(\"plot sin x\", appid)\n",
        "if image_data:\n",
        "    display(Image(image_data))\n",
        "else:\n",
        "    print(\"Error: No image data received.\")\n"
      ],
      "metadata": {
        "id": "kAsPsLdohMyo"
      },
      "execution_count": null,
      "outputs": []
    },
    {
      "cell_type": "code",
      "source": [
        "# Combined API Query Example\n",
        "# This cell combines the use of the Short Answers API and the Simple API to provide\n",
        "# both textual and visual information in response to a query.\n",
        "def combined_api_query(query, appid):\n",
        "    # Get the short answer\n",
        "    short_answer = get_short_answer(query, appid)\n",
        "    print(f\"Query: {query}\")\n",
        "    print(f\"Short Answer: {short_answer}\\n\")\n",
        "\n",
        "    # Get the visual representation\n",
        "    image_data = get_simple_api_image(query, appid)\n",
        "    if image_data:\n",
        "        display(Image(image_data))\n",
        "    else:\n",
        "        print(\"No image data received.\")\n",
        "\n",
        "# Example combined query\n",
        "combined_query = \"Density of gold\"\n",
        "combined_api_query(combined_query, appid)\n"
      ],
      "metadata": {
        "id": "XTz096dnhQAy"
      },
      "execution_count": null,
      "outputs": []
    }
  ]
}