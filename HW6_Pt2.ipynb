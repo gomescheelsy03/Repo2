{
  "nbformat": 4,
  "nbformat_minor": 0,
  "metadata": {
    "colab": {
      "provenance": [],
      "authorship_tag": "ABX9TyNrlKq+lOe6NP/fLX46SSDF",
      "include_colab_link": true
    },
    "kernelspec": {
      "name": "python3",
      "display_name": "Python 3"
    },
    "language_info": {
      "name": "python"
    }
  },
  "cells": [
    {
      "cell_type": "markdown",
      "metadata": {
        "id": "view-in-github",
        "colab_type": "text"
      },
      "source": [
        "<a href=\"https://colab.research.google.com/github/gomescheelsy03/Repo2/blob/main/HW6_Pt2.ipynb\" target=\"_parent\"><img src=\"https://colab.research.google.com/assets/colab-badge.svg\" alt=\"Open In Colab\"/></a>"
      ]
    },
    {
      "cell_type": "code",
      "execution_count": 2,
      "metadata": {
        "colab": {
          "base_uri": "https://localhost:8080/"
        },
        "id": "VGVqXIyNeN4v",
        "outputId": "47e54275-c05d-4c32-9dfd-0147097e0184"
      },
      "outputs": [
        {
          "output_type": "stream",
          "name": "stdout",
          "text": [
            "True\n",
            "False\n"
          ]
        }
      ],
      "source": [
        "#Author: Chelsy Gomes\n",
        "#This program contains implementations for a function to check one-to-one character mappings.\n",
        "def has_one_to_one_mapping(s1, s2):\n",
        "    if len(s1) != len(s2):\n",
        "        return False\n",
        "\n",
        "    mapping = {}\n",
        "    for c1, c2 in zip(s1, s2):\n",
        "        if c1 in mapping:\n",
        "            if mapping[c1] != c2:\n",
        "                return False\n",
        "        else:\n",
        "            if c2 in mapping.values():\n",
        "                return False\n",
        "            mapping[c1] = c2\n",
        "\n",
        "    return True\n",
        "\n",
        "# Testing the function\n",
        "print(has_one_to_one_mapping('abc', 'bcd'))  # True\n",
        "print(has_one_to_one_mapping('foo', 'bar'))  # False\n"
      ]
    }
  ]
}