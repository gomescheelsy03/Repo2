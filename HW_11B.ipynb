{
  "nbformat": 4,
  "nbformat_minor": 0,
  "metadata": {
    "colab": {
      "provenance": [],
      "authorship_tag": "ABX9TyPOxdjgq25Ymz+r7UFQx2yB",
      "include_colab_link": true
    },
    "kernelspec": {
      "name": "python3",
      "display_name": "Python 3"
    },
    "language_info": {
      "name": "python"
    }
  },
  "cells": [
    {
      "cell_type": "markdown",
      "metadata": {
        "id": "view-in-github",
        "colab_type": "text"
      },
      "source": [
        "<a href=\"https://colab.research.google.com/github/gomescheelsy03/Repo2/blob/main/HW_11B.ipynb\" target=\"_parent\"><img src=\"https://colab.research.google.com/assets/colab-badge.svg\" alt=\"Open In Colab\"/></a>"
      ]
    },
    {
      "cell_type": "code",
      "source": [
        "!pip install beautifulsoup4 requests\n",
        "\n"
      ],
      "metadata": {
        "id": "hMT19LZMJaV5"
      },
      "execution_count": null,
      "outputs": []
    },
    {
      "cell_type": "code",
      "source": [
        "# Author: Chelsy Gomes\n",
        "# This Python script is authored by me, Chelsy Gomes, for the purpose of completing HW-11B assignment.\n",
        "# It demonstrates web scraping using requests and BeautifulSoup libraries.\n",
        "\n",
        "import requests\n",
        "from bs4 import BeautifulSoup\n",
        "import csv\n",
        "\n",
        "# Function to get the HTML content of the page\n",
        "def get_html(url):\n",
        "    try:\n",
        "        response = requests.get(url)\n",
        "        response.raise_for_status()\n",
        "        return response.text\n",
        "    except requests.RequestException as e:\n",
        "        print(f\"Error fetching page: {e}\")\n",
        "        return None\n",
        "\n",
        "# Function to parse the HTML and extract quotes and authors\n",
        "def parse_quotes(html):\n",
        "    soup = BeautifulSoup(html, 'html.parser')\n",
        "    quotes_data = []\n",
        "    quotes = soup.find_all('div', class_='quote')\n",
        "\n",
        "    for quote in quotes:\n",
        "        text = quote.find('span', class_='text').text\n",
        "        author = quote.find('small', class_='author').text\n",
        "        print(f\"{text} - {author}\")  # Printing each quote and author\n",
        "        quotes_data.append((text, author))\n",
        "\n",
        "    return quotes_data\n",
        "\n",
        "# Function to save quotes to a CSV file\n",
        "def save_quotes(quotes, filename='quotes.csv'):\n",
        "    with open(filename, mode='w', newline='', encoding='utf-8') as file:\n",
        "        writer = csv.writer(file)\n",
        "        writer.writerow(['Quote', 'Author'])  # Write header\n",
        "        writer.writerows(quotes)\n",
        "\n",
        "# Main function to orchestrate the scraping\n",
        "def scrape_quotes(url):\n",
        "    html = get_html(url)\n",
        "    if html:\n",
        "        quotes = parse_quotes(html)\n",
        "        save_quotes(quotes)\n",
        "        print(f\"Scraped {len(quotes)} quotes successfully.\")\n",
        "\n",
        "# URL of the website to scrape\n",
        "url = 'http://quotes.toscrape.com'\n",
        "\n",
        "# Start the scraping process\n",
        "scrape_quotes(url)\n"
      ],
      "metadata": {
        "colab": {
          "base_uri": "https://localhost:8080/"
        },
        "id": "O_ZlvIM0Jcdb",
        "outputId": "4dfcf2d8-7daa-4216-bdbf-dff443f267b9"
      },
      "execution_count": 39,
      "outputs": [
        {
          "output_type": "stream",
          "name": "stdout",
          "text": [
            "“The world as we have created it is a process of our thinking. It cannot be changed without changing our thinking.” - Albert Einstein\n",
            "“It is our choices, Harry, that show what we truly are, far more than our abilities.” - J.K. Rowling\n",
            "“There are only two ways to live your life. One is as though nothing is a miracle. The other is as though everything is a miracle.” - Albert Einstein\n",
            "“The person, be it gentleman or lady, who has not pleasure in a good novel, must be intolerably stupid.” - Jane Austen\n",
            "“Imperfection is beauty, madness is genius and it's better to be absolutely ridiculous than absolutely boring.” - Marilyn Monroe\n",
            "“Try not to become a man of success. Rather become a man of value.” - Albert Einstein\n",
            "“It is better to be hated for what you are than to be loved for what you are not.” - André Gide\n",
            "“I have not failed. I've just found 10,000 ways that won't work.” - Thomas A. Edison\n",
            "“A woman is like a tea bag; you never know how strong it is until it's in hot water.” - Eleanor Roosevelt\n",
            "“A day without sunshine is like, you know, night.” - Steve Martin\n",
            "Scraped 10 quotes successfully.\n"
          ]
        }
      ]
    }
  ]
}