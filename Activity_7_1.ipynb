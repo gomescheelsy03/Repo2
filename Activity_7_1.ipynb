{
  "nbformat": 4,
  "nbformat_minor": 0,
  "metadata": {
    "colab": {
      "provenance": [],
      "authorship_tag": "ABX9TyPgjufRdcmXGg4J+CqHkyaX",
      "include_colab_link": true
    },
    "kernelspec": {
      "name": "python3",
      "display_name": "Python 3"
    },
    "language_info": {
      "name": "python"
    }
  },
  "cells": [
    {
      "cell_type": "markdown",
      "metadata": {
        "id": "view-in-github",
        "colab_type": "text"
      },
      "source": [
        "<a href=\"https://colab.research.google.com/github/gomescheelsy03/Repo2/blob/main/Activity_7_1.ipynb\" target=\"_parent\"><img src=\"https://colab.research.google.com/assets/colab-badge.svg\" alt=\"Open In Colab\"/></a>"
      ]
    },
    {
      "cell_type": "code",
      "execution_count": 1,
      "metadata": {
        "colab": {
          "base_uri": "https://localhost:8080/"
        },
        "id": "TBHs1mx9oNCm",
        "outputId": "807fbcf2-8f2c-48df-9dd0-d8ed20a0cd6d"
      },
      "outputs": [
        {
          "output_type": "stream",
          "name": "stdout",
          "text": [
            "Found phone numbers: ['123-456-7890', '987-654-3210']\n",
            "Modified text: My phone number is PRIVATE and my friend's number is PRIVATE.\n"
          ]
        }
      ],
      "source": [
        "#author: Chelsy Gomes\n",
        "\n",
        "import re\n",
        "\n",
        "# Sample string\n",
        "text = \"My phone number is 123-456-7890 and my friend's number is 987-654-3210.\"\n",
        "\n",
        "# Regular expression to match phone numbers\n",
        "pattern = re.compile(r'\\d{3}-\\d{3}-\\d{4}')\n",
        "\n",
        "# Finding all matches\n",
        "matches = pattern.findall(text)\n",
        "\n",
        "# Printing matches\n",
        "print(\"Found phone numbers:\", matches)\n",
        "\n",
        "# Substituting phone numbers with \"PRIVATE\"\n",
        "modified_text = pattern.sub(\"PRIVATE\", text)\n",
        "\n",
        "# Printing modified text\n",
        "print(\"Modified text:\", modified_text)\n"
      ]
    }
  ]
}