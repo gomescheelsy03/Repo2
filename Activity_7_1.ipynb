{
  "nbformat": 4,
  "nbformat_minor": 0,
  "metadata": {
    "colab": {
      "provenance": [],
      "authorship_tag": "ABX9TyPkmP1RdoqxGiasEDQQA56t",
      "include_colab_link": true
    },
    "kernelspec": {
      "name": "python3",
      "display_name": "Python 3"
    },
    "language_info": {
      "name": "python"
    }
  },
  "cells": [
    {
      "cell_type": "markdown",
      "metadata": {
        "id": "view-in-github",
        "colab_type": "text"
      },
      "source": [
        "<a href=\"https://colab.research.google.com/github/gomescheelsy03/Repo2/blob/main/Activity_7_1.ipynb\" target=\"_parent\"><img src=\"https://colab.research.google.com/assets/colab-badge.svg\" alt=\"Open In Colab\"/></a>"
      ]
    },
    {
      "cell_type": "code",
      "execution_count": 2,
      "metadata": {
        "colab": {
          "base_uri": "https://localhost:8080/"
        },
        "id": "TBHs1mx9oNCm",
        "outputId": "43baaa72-5d05-4e52-e160-f3811f96578a"
      },
      "outputs": [
        {
          "output_type": "stream",
          "name": "stdout",
          "text": [
            "Email address is valid\n",
            "Number is valid\n",
            "Number is not valid\n",
            "Comment has 1 curse word(s).\n",
            "['Dais', ' found a pupp', '']\n"
          ]
        }
      ],
      "source": [
        "import re\n",
        "\n",
        "# Validate Email Addresses\n",
        "def validate_email(email):\n",
        "    pattern = re.compile(r'^.+@[^.].*\\.[a-z]{2,10}$', flags=re.IGNORECASE)\n",
        "    return bool(re.match(pattern, email))\n",
        "\n",
        "email = \"example@gmail.com\"\n",
        "print(\"Email address is valid\" if validate_email(email) else \"Enter a valid email address\")\n",
        "\n",
        "# Validate Canadian Phone Numbers\n",
        "def validate_canadian_number(number):\n",
        "    pattern = re.compile(r\"^(\\+1?[-. ]?(\\d+))$\")\n",
        "    return bool(re.match(pattern, number))\n",
        "\n",
        "numbers = [\"+18009592809\", \"=18009592809\"]\n",
        "for number in numbers:\n",
        "    print(\"Number is valid\" if validate_canadian_number(number) else \"Number is not valid\")\n",
        "\n",
        "# Filter Unwanted Content\n",
        "def contains_curse_words(comment, curse_words):\n",
        "    return any(re.search(word, comment) for word in curse_words)\n",
        "\n",
        "curse_words = [\"foo\", \"bar\", \"baz\"]\n",
        "comment = \"This string contains a foo word.\"\n",
        "curse_count = sum(contains_curse_words(comment, [word]) for word in curse_words)\n",
        "print(f\"Comment has {curse_count} curse word(s).\")\n",
        "\n",
        "# Using re.split()\n",
        "def split_by_pattern(text, pattern):\n",
        "    return re.split(pattern, text)\n",
        "\n",
        "result = split_by_pattern(\"Daisy found a puppy\", r\"y\")\n",
        "print(result)\n"
      ]
    }
  ]
}