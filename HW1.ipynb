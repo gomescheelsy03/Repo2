{
  "nbformat": 4,
  "nbformat_minor": 0,
  "metadata": {
    "colab": {
      "provenance": [],
      "toc_visible": true,
      "authorship_tag": "ABX9TyNBCLJYT6EFMABU4oLrebcK",
      "include_colab_link": true
    },
    "kernelspec": {
      "name": "python3",
      "display_name": "Python 3"
    },
    "language_info": {
      "name": "python"
    }
  },
  "cells": [
    {
      "cell_type": "markdown",
      "metadata": {
        "id": "view-in-github",
        "colab_type": "text"
      },
      "source": [
        "<a href=\"https://colab.research.google.com/github/gomescheelsy03/Repo2/blob/main/HW1.ipynb\" target=\"_parent\"><img src=\"https://colab.research.google.com/assets/colab-badge.svg\" alt=\"Open In Colab\"/></a>"
      ]
    },
    {
      "cell_type": "code",
      "execution_count": null,
      "metadata": {
        "colab": {
          "base_uri": "https://localhost:8080/"
        },
        "id": "3HcOulKuIbsd",
        "outputId": "7a4e02f8-c18a-4239-fac8-39ec546ba8e2"
      },
      "outputs": [
        {
          "output_type": "stream",
          "name": "stdout",
          "text": [
            "Please enter integer value 1: 10\n",
            "Please enter integer value 2: 30\n",
            "Please enter integer value 3: 20\n",
            "Please enter integer value 4: 15\n",
            "The maximum value entered is: 30\n",
            "The minimum value entered is: 10\n",
            "The running total of the values entered is: 75\n"
          ]
        }
      ],
      "source": [
        "#Name:Chelsy Gomes\n",
        "#CMSC-206-22213\n",
        "#Due date:09/06/2023\n",
        "#Instructor: Gary Thai\n",
        "#HW1 Program 1\n",
        "\n",
        "# Initialize an empty list to store the user inputs\n",
        "numbers = []\n",
        "\n",
        "# Prompt user to enter four integer values one by one\n",
        "for i in range(4):\n",
        "    while True:\n",
        "        try:\n",
        "            # Getting input from the user\n",
        "            num = int(input(f\"Please enter integer value {i+1}: \"))\n",
        "            # Adding the entered value to the list\n",
        "            numbers.append(num)\n",
        "            break\n",
        "        except ValueError:\n",
        "            # If input is not an integer, prompt the user to enter a valid integer value\n",
        "            print(\"Invalid input. Please enter a valid integer value.\")\n",
        "\n",
        "# Finding the maximum and minimum values from the entered values\n",
        "max_value = max(numbers)\n",
        "min_value = min(numbers)\n",
        "\n",
        "# Displaying the maximum and minimum values\n",
        "print(f\"The maximum value entered is: {max_value}\")\n",
        "print(f\"The minimum value entered is: {min_value}\")\n",
        "\n",
        "# Additional enhancement: Displaying the running total after each entry\n",
        "running_total = sum(numbers)\n",
        "print(f\"The running total of the values entered is: {running_total}\")\n"
      ]
    },
    {
      "cell_type": "code",
      "source": [
        "#Name:Chelsy Gomes\n",
        "#CMSC-206-22213\n",
        "#Due date:09/06/2023\n",
        "#Instructor: Gary Thai\n",
        "#HW1 Program 2\n",
        "# Prompt the user to enter a value between 0.0 and 1.0\n",
        "# This loop will continue until we get a valid input from the user\n",
        "while True:\n",
        "    try:\n",
        "        # Prompt the user to enter a value and try to convert it to a float\n",
        "        value = float(input(\"Please enter a value between 0.0 and 1.0 inclusively: \"))\n",
        "\n",
        "        # Check if the entered value is out of the valid range (0.0 to 1.0)\n",
        "        if value < 0.0 or value > 1.0:\n",
        "            # If the value is out of range, print an error message\n",
        "            print(\"Error: The input is out of range.\")\n",
        "        else:\n",
        "            # If the value is within the valid range, determine the letter grade based on the value entered\n",
        "            if value >= 0.9:\n",
        "                print(\"Letter grade: A\")\n",
        "            elif value >= 0.8:\n",
        "                print(\"Letter grade: B\")\n",
        "            elif value >= 0.7:\n",
        "                print(\"Letter grade: C\")\n",
        "            elif value >= 0.6:\n",
        "                print(\"Letter grade: D\")\n",
        "            else:\n",
        "                print(\"Letter grade: F\")\n",
        "            # Exit the loop as we have got a valid input and processed it\n",
        "            break\n",
        "\n",
        "    except ValueError:\n",
        "        # If the input is not a valid number, catch the ValueError exception and print an error message\n",
        "        print(\"Error: Invalid input. Please enter a numeric value.\")\n",
        "\n",
        "\n",
        "\n"
      ],
      "metadata": {
        "id": "DrtW0CFmJMw8"
      },
      "execution_count": null,
      "outputs": []
    }
  ]
}