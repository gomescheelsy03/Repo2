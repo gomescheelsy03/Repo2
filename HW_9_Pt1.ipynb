{
  "nbformat": 4,
  "nbformat_minor": 0,
  "metadata": {
    "colab": {
      "provenance": [],
      "authorship_tag": "ABX9TyPd06bIY7m5aT0RwvizO4Eg",
      "include_colab_link": true
    },
    "kernelspec": {
      "name": "python3",
      "display_name": "Python 3"
    },
    "language_info": {
      "name": "python"
    }
  },
  "cells": [
    {
      "cell_type": "markdown",
      "metadata": {
        "id": "view-in-github",
        "colab_type": "text"
      },
      "source": [
        "<a href=\"https://colab.research.google.com/github/gomescheelsy03/Repo2/blob/main/HW_9_Pt1.ipynb\" target=\"_parent\"><img src=\"https://colab.research.google.com/assets/colab-badge.svg\" alt=\"Open In Colab\"/></a>"
      ]
    },
    {
      "cell_type": "code",
      "source": [
        "#author: Chelsy Gomes\n",
        "import pandas as pd\n",
        "\n",
        "# Define the file path\n",
        "data_file_path = 'adult-data.txt'\n",
        "\n",
        "# Load the data into a Pandas DataFrame\n",
        "column_names = [\n",
        "    \"age\", \"workclass\", \"fnlwgt\", \"education\", \"education_num\",\n",
        "    \"marital_status\", \"occupation\", \"relationship\", \"race\",\n",
        "    \"sex\", \"capital_gain\", \"capital_loss\", \"hours_per_week\",\n",
        "    \"native_country\", \"income\"\n",
        "]\n",
        "data_df = pd.read_csv(data_file_path, names=column_names)\n",
        "\n",
        "# Insight 1: Analyze the income distribution between different genders.\n",
        "gender_income_distribution = data_df[['sex', 'income']]\n",
        "gender_income_distribution['income'] = gender_income_distribution['income'].apply(lambda x: x.strip())\n",
        "gender_count = gender_income_distribution.groupby(['sex', 'income']).size().unstack()\n",
        "gender_count['percentage'] = gender_count['>50K'] / (gender_count['>50K'] + gender_count['<=50K'])\n",
        "\n",
        "# Insight 2: Calculate the average hours-per-week for individuals making over $50K versus those making $50K or less.\n",
        "average_hours_per_income = data_df.groupby('income')['hours_per_week'].mean()\n",
        "\n",
        "# Insight 3: Examine the relationship between education level and income.\n",
        "education_income_pivot = data_df.pivot_table('age', ['education'], 'income', 'count').fillna(0)\n",
        "education_income_pivot['>50K_percent'] = (education_income_pivot[' >50K'] /\n",
        "                                          (education_income_pivot[' >50K'] + education_income_pivot[' <=50K'])) * 100\n",
        "education_income_sorted = education_income_pivot.sort_values(by='>50K_percent', ascending=False)\n",
        "\n",
        "# Print the insights\n",
        "print(\"Insight 1: Gender vs. Income Distribution\")\n",
        "print(gender_count)\n",
        "print(\"\\nInsight 2: Average Hours per Week vs. Income\")\n",
        "print(average_hours_per_income)\n",
        "print(\"\\nInsight 3: Education Level vs. Income\")\n",
        "print(education_income_sorted['>50K_percent'])\n"
      ],
      "metadata": {
        "colab": {
          "base_uri": "https://localhost:8080/"
        },
        "id": "mn-dmc78GIIt",
        "outputId": "c14f8910-4e17-4704-8458-dbae2b8ccf4d"
      },
      "execution_count": 36,
      "outputs": [
        {
          "output_type": "stream",
          "name": "stdout",
          "text": [
            "Insight 1: Gender vs. Income Distribution\n",
            "income   <=50K  >50K  percentage\n",
            "sex                             \n",
            " Female   9592  1179    0.109461\n",
            " Male    15128  6662    0.305737\n",
            "\n",
            "Insight 2: Average Hours per Week vs. Income\n",
            "income\n",
            " <=50K    38.840210\n",
            " >50K     45.473026\n",
            "Name: hours_per_week, dtype: float64\n",
            "\n",
            "Insight 3: Education Level vs. Income\n",
            "education\n",
            " Doctorate       74.092010\n",
            " Prof-school     73.437500\n",
            " Masters         55.658735\n",
            " Bachelors       41.475257\n",
            " Assoc-voc       26.121563\n",
            " Assoc-acdm      24.835989\n",
            " Some-college    19.023454\n",
            " HS-grad         15.950862\n",
            " 12th             7.621247\n",
            " 10th             6.645230\n",
            " 7th-8th          6.191950\n",
            " 9th              5.252918\n",
            " 11th             5.106383\n",
            " 5th-6th          4.804805\n",
            " 1st-4th          3.571429\n",
            " Preschool        0.000000\n",
            "Name: >50K_percent, dtype: float64\n"
          ]
        },
        {
          "output_type": "stream",
          "name": "stderr",
          "text": [
            "<ipython-input-36-e9c79ab82c33>:18: SettingWithCopyWarning: \n",
            "A value is trying to be set on a copy of a slice from a DataFrame.\n",
            "Try using .loc[row_indexer,col_indexer] = value instead\n",
            "\n",
            "See the caveats in the documentation: https://pandas.pydata.org/pandas-docs/stable/user_guide/indexing.html#returning-a-view-versus-a-copy\n",
            "  gender_income_distribution['income'] = gender_income_distribution['income'].apply(lambda x: x.strip())\n"
          ]
        }
      ]
    }
  ]
}