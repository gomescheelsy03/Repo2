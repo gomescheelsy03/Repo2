{
  "nbformat": 4,
  "nbformat_minor": 0,
  "metadata": {
    "colab": {
      "provenance": [],
      "authorship_tag": "ABX9TyPXkmPHk9qI/QiLkg6l2n7q",
      "include_colab_link": true
    },
    "kernelspec": {
      "name": "python3",
      "display_name": "Python 3"
    },
    "language_info": {
      "name": "python"
    }
  },
  "cells": [
    {
      "cell_type": "markdown",
      "metadata": {
        "id": "view-in-github",
        "colab_type": "text"
      },
      "source": [
        "<a href=\"https://colab.research.google.com/github/gomescheelsy03/Repo2/blob/main/Activity_6_1.ipynb\" target=\"_parent\"><img src=\"https://colab.research.google.com/assets/colab-badge.svg\" alt=\"Open In Colab\"/></a>"
      ]
    },
    {
      "cell_type": "code",
      "source": [
        "# Sample portfolio based on the provided data\n",
        "portfolio = [\n",
        "    (\"#########\", 28.13, 52, 'MTNB', 0.79),\n",
        "    (\"#########\", 52.43, 10, 'BERY', 38.38),\n",
        "    (\"#########\", 73.53, 53, 'SIRI', 106.70),\n",
        "    (\"#########\", 32.67, 20, 'BMA', 13.46),\n",
        "    (\"2/1/2005\", 78.83, 75, 'ADT', 99.91),\n",
        "    (\"9/8/2012\", 29.12, 7, 'ZNGA', 80.81),\n",
        "    (\"#########\", 86.51, 21, 'BOOM', 40.50),\n",
        "    (\"#########\", 22.19, 21, 'CNTY', 103.10),\n",
        "    (\"#########\", 44.21, 86, 'NOK', 84.11),\n",
        "    (\"2/4/2008\", 62.66, 95, 'NMR', 35.98),\n",
        "    (\"#########\", 36.14, 100, 'URBN', 40.96),\n",
        "    (\"#########\", 110.59, 200, 'DIS', 177.34)\n",
        "]\n",
        "\n",
        "# Function to calculate the total cost of the portfolio\n",
        "def total_portfolio_cost(portfolio):\n",
        "    total_cost = 0\n",
        "    for entry in portfolio:\n",
        "        _, purchase_price, shares, _, _ = entry\n",
        "        total_cost += purchase_price * shares\n",
        "    return total_cost\n",
        "\n",
        "# Function to calculate the total cost of a specific stock\n",
        "def total_stock_cost(portfolio, ticker):\n",
        "    stock_cost = 0\n",
        "    for entry in portfolio:\n",
        "        _, purchase_price, shares, stock_symbol, _ = entry\n",
        "        if stock_symbol == ticker:\n",
        "            stock_cost += purchase_price * shares\n",
        "    return stock_cost\n",
        "\n",
        "# Test the functions\n",
        "if __name__ == '__main__':\n",
        "    print(\"Total Portfolio Cost:\", total_portfolio_cost(portfolio))\n",
        "    ticker_to_test = 'MTNB'\n",
        "    print(f\"Total Cost for {ticker_to_test}:\", total_stock_cost(portfolio, ticker_to_test))\n",
        "    ticker_to_test = 'DIS'\n",
        "    print(f\"Total Cost for {ticker_to_test}:\", total_stock_cost(portfolio, ticker_to_test))\n"
      ],
      "metadata": {
        "colab": {
          "base_uri": "https://localhost:8080/"
        },
        "id": "udxX_9BQo6P2",
        "outputId": "0a151e78-0fb0-478e-c6d9-ed5b382cc5c4"
      },
      "execution_count": 16,
      "outputs": [
        {
          "output_type": "stream",
          "name": "stdout",
          "text": [
            "Total Portfolio Cost: 50423.1\n",
            "Total Cost for MTNB: 1462.76\n",
            "Total Cost for DIS: 22118.0\n"
          ]
        }
      ]
    }
  ]
}