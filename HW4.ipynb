{
  "nbformat": 4,
  "nbformat_minor": 0,
  "metadata": {
    "colab": {
      "provenance": [],
      "toc_visible": true,
      "authorship_tag": "ABX9TyMGYH6L3gI8SVkO1xy2posi",
      "include_colab_link": true
    },
    "kernelspec": {
      "name": "python3",
      "display_name": "Python 3"
    },
    "language_info": {
      "name": "python"
    }
  },
  "cells": [
    {
      "cell_type": "markdown",
      "metadata": {
        "id": "view-in-github",
        "colab_type": "text"
      },
      "source": [
        "<a href=\"https://colab.research.google.com/github/gomescheelsy03/Repo2/blob/main/HW4.ipynb\" target=\"_parent\"><img src=\"https://colab.research.google.com/assets/colab-badge.svg\" alt=\"Open In Colab\"/></a>"
      ]
    },
    {
      "cell_type": "markdown",
      "source": [],
      "metadata": {
        "id": "4PEUWfkTCrfx"
      }
    },
    {
      "cell_type": "code",
      "source": [
        "#authorChelsy Gomes\n",
        "#HW2 Program 2\n",
        "with open(\"intro.txt\", \"w\") as file:\n",
        "    file.write(\"This is a test. Game, gAme, and gAme. are the same word.\")\n",
        "\n",
        "\n"
      ],
      "metadata": {
        "id": "i3FGaIdIEJoL"
      },
      "execution_count": 76,
      "outputs": []
    },
    {
      "cell_type": "code",
      "source": [
        "\n",
        "#author:Chelsy Gomes\n",
        "#CMSC-206-22213\n",
        "#Due date:09/13/2023\n",
        "#Instructor: Gary Thai\n",
        "#HW2 Program 2\n",
        "import string\n",
        "\n",
        "def process_file(filename):\n",
        "    try:\n",
        "        with open(filename, \"r\") as file:\n",
        "            content = file.read()\n",
        "\n",
        "        # Split by common sentence delimiters\n",
        "        sentences = [sent for sent in content.replace('!', '.').replace('?', '.').split('.') if sent.strip()]\n",
        "        total_sentences = len(sentences)\n",
        "\n",
        "        words = content.split()\n",
        "        cleaned_words = [''.join([char for char in word if char not in string.punctuation]).lower() for word in words]\n",
        "        total_words = len(cleaned_words)\n",
        "\n",
        "        characters = ''.join(cleaned_words)\n",
        "        total_characters = len(characters)\n",
        "\n",
        "        print(f\"Total Sentences: {total_sentences}\")\n",
        "        print(f\"Total Words: {total_words}\")\n",
        "        print(f\"Total Characters: {total_characters}\")\n",
        "\n",
        "    except FileNotFoundError:\n",
        "        print(f\"The file '{filename}' was not found!\")\n",
        "\n",
        "filename = input(\"Enter the filename (e.g., intro.txt): \")\n",
        "process_file(filename)\n",
        "\n",
        "\n"
      ],
      "metadata": {
        "colab": {
          "base_uri": "https://localhost:8080/"
        },
        "id": "bye1z0cJEbR-",
        "outputId": "5c578bdb-dfc8-404e-bd27-48dd378503ca"
      },
      "execution_count": 77,
      "outputs": [
        {
          "output_type": "stream",
          "name": "stdout",
          "text": [
            "Enter the filename (e.g., intro.txt): intro.txt\n",
            "Total Sentences: 3\n",
            "Total Words: 12\n",
            "Total Characters: 40\n"
          ]
        }
      ]
    },
    {
      "cell_type": "markdown",
      "source": [
        "# New Section"
      ],
      "metadata": {
        "id": "D3Sbd_fLHtCx"
      }
    },
    {
      "cell_type": "code",
      "source": [
        "# Author: Chelsy Gomes\n",
        "# I am the author of this program.\n",
        "\n",
        "\n",
        "import random  # Importing the random module to generate random numbers\n",
        "\n",
        "def generate_random_numbers():\n",
        "    \"\"\"\n",
        "    This function generates a list of 50 random numbers between 100 and 500 (inclusive),\n",
        "    sorts them in descending order, and then writes them to a file named numbers.txt.\n",
        "    \"\"\"\n",
        "    # Generate a list of 50 random numbers between 100 and 500\n",
        "    numbers = [random.randint(100, 500) for _ in range(50)]\n",
        "\n",
        "    # Sort the list in descending order\n",
        "    numbers.sort(reverse=True)\n",
        "\n",
        "    # Write the sorted numbers to numbers.txt, one number per line\n",
        "    with open(\"numbers.txt\", \"w\") as file:\n",
        "        for number in numbers:\n",
        "            file.write(str(number) + \"\\n\")\n",
        "\n",
        "    # Enhancement: Print the maximum and minimum values from the list\n",
        "    print(\"Maximum Value:\", max(numbers))\n",
        "    print(\"Minimum Value:\", min(numbers))\n",
        "\n",
        "# Call the function to generate the random numbers\n",
        "generate_random_numbers()\n",
        "\n",
        "import random  # Importing the random module to generate random numbers\n",
        "\n",
        "def generate_random_numbers():\n",
        "    \"\"\"\n",
        "    This function generates a list of 50 random numbers between 100 and 500 (inclusive),\n",
        "    sorts them in descending order, and then writes them to a file named numbers.txt.\n",
        "    \"\"\"\n",
        "    # Generate a list of 50 random numbers between 100 and 500\n",
        "    numbers = [random.randint(100, 500) for _ in range(50)]\n",
        "\n",
        "    # Sort the list in descending order\n",
        "    numbers.sort(reverse=True)\n",
        "\n",
        "    # Write the sorted numbers to numbers.txt, one number per line\n",
        "    with open(\"numbers.txt\", \"w\") as file:\n",
        "        for number in numbers:\n",
        "            file.write(str(number) + \"\\n\")\n",
        "\n",
        "    # Enhancement: Print the maximum and minimum values from the list\n",
        "    print(\"Maximum Value:\", max(numbers))\n",
        "    print(\"Minimum Value:\", min(numbers))\n",
        "\n",
        "# Call the function to generate the random numbers\n",
        "generate_random_numbers()\n",
        "\n",
        "\n"
      ],
      "metadata": {
        "colab": {
          "base_uri": "https://localhost:8080/"
        },
        "id": "8QCuLWT8HuGC",
        "outputId": "5ec2b6ed-6504-4cc0-c4ff-0a37ed2367c3"
      },
      "execution_count": 78,
      "outputs": [
        {
          "output_type": "stream",
          "name": "stdout",
          "text": [
            "Maximum Value: 498\n",
            "Minimum Value: 101\n",
            "Maximum Value: 497\n",
            "Minimum Value: 100\n"
          ]
        }
      ]
    },
    {
      "cell_type": "code",
      "source": [
        "# Author: Chelsy Gomes\n",
        "# I am the author of this program.\n",
        "#HW 4 Program 1\n",
        "\n",
        "import random  # Importing the random module to generate random numbers\n",
        "\n",
        "def generate_random_numbers():\n",
        "    \"\"\"\n",
        "    This function generates a list of 50 random numbers between 100 and 500 (inclusive),\n",
        "    sorts them in descending order, and then writes them to a file named numbers.txt.\n",
        "    \"\"\"\n",
        "    # Generate a list of 50 random numbers between 100 and 500\n",
        "    numbers = [random.randint(100, 500) for _ in range(50)]\n",
        "\n",
        "    # Sort the list in descending order\n",
        "    numbers.sort(reverse=True)\n",
        "\n",
        "    # Write the sorted numbers to numbers.txt, one number per line\n",
        "    with open(\"numbers.txt\", \"w\") as file:\n",
        "        for number in numbers:\n",
        "            file.write(str(number) + \"\\n\")\n",
        "\n",
        "    # Enhancement: Print the maximum and minimum values from the list\n",
        "    print(\"Maximum Value:\", max(numbers))\n",
        "    print(\"Minimum Value:\", min(numbers))\n",
        "\n",
        "# Call the function to generate the random numbers\n",
        "generate_random_numbers()\n",
        "\n",
        "\n",
        "\n"
      ],
      "metadata": {
        "colab": {
          "base_uri": "https://localhost:8080/"
        },
        "outputId": "aa6e2e01-a51c-4740-9474-cd2439835edc",
        "id": "XVuR7CX5IGeR"
      },
      "execution_count": 50,
      "outputs": [
        {
          "output_type": "stream",
          "name": "stdout",
          "text": [
            "Maximum Value: 459\n",
            "Minimum Value: 118\n"
          ]
        }
      ]
    }
  ]
}