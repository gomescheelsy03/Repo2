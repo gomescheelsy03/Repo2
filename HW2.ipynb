{
  "nbformat": 4,
  "nbformat_minor": 0,
  "metadata": {
    "colab": {
      "provenance": [],
      "authorship_tag": "ABX9TyNymxkzy4Uy3cS2dgXWeptf",
      "include_colab_link": true
    },
    "kernelspec": {
      "name": "python3",
      "display_name": "Python 3"
    },
    "language_info": {
      "name": "python"
    }
  },
  "cells": [
    {
      "cell_type": "markdown",
      "metadata": {
        "id": "view-in-github",
        "colab_type": "text"
      },
      "source": [
        "<a href=\"https://colab.research.google.com/github/gomescheelsy03/Repo2/blob/main/HW2.ipynb\" target=\"_parent\"><img src=\"https://colab.research.google.com/assets/colab-badge.svg\" alt=\"Open In Colab\"/></a>"
      ]
    },
    {
      "cell_type": "code",
      "execution_count": null,
      "metadata": {
        "id": "ksP8mp12rY6m"
      },
      "outputs": [],
      "source": [
        "#Name:Chelsy Gomes\n",
        "#CMSC-206-22213\n",
        "#Due date:09/13/2023\n",
        "#Instructor: Gary Thai\n",
        "#HW2 Program 1\n",
        "\n",
        "# Initialize the start value to 1000\n",
        "current_value = 1000\n",
        "\n",
        "# Loop until the current value is greater than or equal to 0\n",
        "while current_value >= 0:\n",
        "\n",
        "    # Print the current value\n",
        "    print(current_value, end=\", \")\n",
        "\n",
        "    # Decrement the current value by 5 if it's 1000 or 995\n",
        "    if current_value == 1000 or current_value == 995:\n",
        "        current_value -= 5\n",
        "    # For other values, decrement it by 100\n",
        "    else:\n",
        "        current_value -= 100\n",
        "\n",
        "\n"
      ]
    },
    {
      "cell_type": "code",
      "source": [
        "#Name:Chelsy Gomes\n",
        "#CMSC-206-22213\n",
        "#Due date:09/13/2023\n",
        "#Instructor: Gary Thai\n",
        "#HW2 Program 2\n",
        "\n",
        "def foo(*args):\n",
        "    \"\"\"\n",
        "    This function accepts an unlimited number of values as arguments\n",
        "    and returns the sum, average, maximum, and minimum of all input values.\n",
        "    \"\"\"\n",
        "    # If no arguments are passed, return None\n",
        "    if len(args) == 0:\n",
        "        return None\n",
        "\n",
        "    # Calculate the sum of all arguments\n",
        "    sum_values = sum(args)\n",
        "\n",
        "    # Calculate the average of all arguments\n",
        "    avg_value = sum_values / len(args)\n",
        "\n",
        "    # Find the maximum value among the arguments\n",
        "    max_value = max(args)\n",
        "\n",
        "    # Find the minimum value among the arguments\n",
        "    min_value = min(args)\n",
        "\n",
        "    # Return the calculated values as a tuple\n",
        "    return sum_values, avg_value, max_value, min_value\n",
        "\n",
        "# Test cases\n",
        "print(foo(1, 3, 4))  # should return 8 (sum), 2.67 (avg), 4 (max), and 1 (min)\n",
        "print(foo(5, 10, 15, 20, 25))  # should return the respective results for the inputs\n"
      ],
      "metadata": {
        "id": "VgAGFv_Hrdii"
      },
      "execution_count": null,
      "outputs": []
    }
  ]
}