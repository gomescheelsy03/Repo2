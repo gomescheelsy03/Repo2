{
  "nbformat": 4,
  "nbformat_minor": 0,
  "metadata": {
    "colab": {
      "provenance": [],
      "authorship_tag": "ABX9TyMXqXXtm1tJa9mOmZU7YjR8",
      "include_colab_link": true
    },
    "kernelspec": {
      "name": "python3",
      "display_name": "Python 3"
    },
    "language_info": {
      "name": "python"
    }
  },
  "cells": [
    {
      "cell_type": "markdown",
      "metadata": {
        "id": "view-in-github",
        "colab_type": "text"
      },
      "source": [
        "<a href=\"https://colab.research.google.com/github/gomescheelsy03/Repo2/blob/main/HW_7.ipynb\" target=\"_parent\"><img src=\"https://colab.research.google.com/assets/colab-badge.svg\" alt=\"Open In Colab\"/></a>"
      ]
    },
    {
      "cell_type": "code",
      "execution_count": 3,
      "metadata": {
        "colab": {
          "base_uri": "https://localhost:8080/"
        },
        "id": "nLXGtkRaqnLT",
        "outputId": "93819c20-632e-4d90-ab85-0e86b51cef28"
      },
      "outputs": [
        {
          "output_type": "stream",
          "name": "stdout",
          "text": [
            "True\n",
            "False\n"
          ]
        }
      ],
      "source": [
        "# Author: Chelsy Gomes\n",
        "# This program contains a function to determine if a given text is a proper English sentence using regular expressions.\n",
        "\n",
        "import re\n",
        "\n",
        "def is_sentence(text):\n",
        "    \"\"\"\n",
        "    Determines if the given text is a proper English sentence.\n",
        "    For this definition, a sentence starts with a capital letter and ends with a period.\n",
        "\n",
        "    Args:\n",
        "    - text (str): The input string to be checked.\n",
        "\n",
        "    Returns:\n",
        "    - bool: True if the text is a sentence, otherwise False.\n",
        "    \"\"\"\n",
        "    pattern = r'^[A-Z].*\\.$'\n",
        "    return bool(re.match(pattern, text))\n",
        "\n",
        "# Test the function\n",
        "print(is_sentence(\"This is a test.\"))  # True\n",
        "print(is_sentence(\"hey!\"))              # False\n",
        "\n"
      ]
    },
    {
      "cell_type": "code",
      "source": [
        "# Author: Chelsy Gomes\n",
        "# This program contains a function to analyze an input string for counts of various character types.\n",
        "# The function uses regular expressions to perform these tasks.\n",
        "\n",
        "import re\n",
        "\n",
        "def analyze_string():\n",
        "    \"\"\"\n",
        "    Prompts the user for an input string and analyzes it\n",
        "    for counts of uppercase letters, lowercase letters,\n",
        "    special characters, and numeric values.\n",
        "    \"\"\"\n",
        "    text = input(\"Please enter a string: \")\n",
        "\n",
        "    # Counting using regex\n",
        "    uppercase_count = len(re.findall(r'[A-Z]', text))\n",
        "    lowercase_count = len(re.findall(r'[a-z]', text))\n",
        "    special_char_count = len(re.findall(r'[^A-Za-z0-9\\s]', text))\n",
        "    numeric_count = len(re.findall(r'[0-9]', text))\n",
        "\n",
        "    # Displaying the results\n",
        "    print(f\"No. of uppercase characters = {uppercase_count}\")\n",
        "    print(f\"No. of lowercase characters = {lowercase_count}\")\n",
        "    print(f\"No. of numerical characters = {numeric_count}\")\n",
        "    print(f\"No. of special characters = {special_char_count}\")\n",
        "\n",
        "# Call the function to test\n",
        "analyze_string()\n",
        "\n"
      ],
      "metadata": {
        "id": "VG96CdwJsO9l"
      },
      "execution_count": null,
      "outputs": []
    }
  ]
}