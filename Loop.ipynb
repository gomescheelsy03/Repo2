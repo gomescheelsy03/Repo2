{
  "nbformat": 4,
  "nbformat_minor": 0,
  "metadata": {
    "colab": {
      "provenance": [],
      "authorship_tag": "ABX9TyNMqMHTpz3A7g2RYz/ud6qR",
      "include_colab_link": true
    },
    "kernelspec": {
      "name": "python3",
      "display_name": "Python 3"
    },
    "language_info": {
      "name": "python"
    }
  },
  "cells": [
    {
      "cell_type": "markdown",
      "metadata": {
        "id": "view-in-github",
        "colab_type": "text"
      },
      "source": [
        "<a href=\"https://colab.research.google.com/github/gomescheelsy03/Repo2/blob/main/Loop.ipynb\" target=\"_parent\"><img src=\"https://colab.research.google.com/assets/colab-badge.svg\" alt=\"Open In Colab\"/></a>"
      ]
    },
    {
      "cell_type": "code",
      "execution_count": null,
      "metadata": {
        "id": "8eMeK0NCG-bt"
      },
      "outputs": [],
      "source": [
        "#Name:Chelsy Gomes\n",
        "#Activity 2.1\n",
        "#Using loop\n",
        "\n",
        "def draw_sideways_tree(center_row_stars):\n",
        "    # Calculate the step value for increasing pattern\n",
        "    step = center_row_stars // 6\n",
        "\n",
        "    # Loop to create the increasing pattern of stars\n",
        "    for i in range(0, center_row_stars+1, step):\n",
        "        print('*' * i)\n",
        "\n",
        "    # Loop to create the decreasing pattern of stars\n",
        "    for i in range(center_row_stars - step, 0, -step):\n",
        "        print('*' * i)\n",
        "\n",
        "# Get input from the user\n",
        "center_row_stars = int(input(\"Enter the number of stars for the center row: \"))\n",
        "\n",
        "# Draw the sideways tree\n",
        "draw_sideways_tree(center_row_stars)\n"
      ]
    }
  ]
}