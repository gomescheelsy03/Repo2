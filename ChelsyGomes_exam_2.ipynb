{
  "nbformat": 4,
  "nbformat_minor": 0,
  "metadata": {
    "colab": {
      "provenance": [],
      "authorship_tag": "ABX9TyMyYgzx5Am056bLl9j4oXKw",
      "include_colab_link": true
    },
    "kernelspec": {
      "name": "python3",
      "display_name": "Python 3"
    },
    "language_info": {
      "name": "python"
    }
  },
  "cells": [
    {
      "cell_type": "markdown",
      "metadata": {
        "id": "view-in-github",
        "colab_type": "text"
      },
      "source": [
        "<a href=\"https://colab.research.google.com/github/gomescheelsy03/Repo2/blob/main/ChelsyGomes_exam_2.ipynb\" target=\"_parent\"><img src=\"https://colab.research.google.com/assets/colab-badge.svg\" alt=\"Open In Colab\"/></a>"
      ]
    },
    {
      "cell_type": "code",
      "source": [
        "Which of the following statement is NOT true regarding to the benefit of using computers to process data\n",
        "\ta.\tComputers help people visualize data so that it is easy to extract useful information\n",
        "\tb.\tPeople can use computers to find patterns in data and make predictions\n",
        "\tc.\tComputers are able to easily process, manipulate, and display large amounts of data in a short amount of time\n",
        "\td.\tWebsites can spy on people and gather large amounts of personal data without the user knowing\n"
      ],
      "metadata": {
        "id": "7gvMvQBxF2c4"
      },
      "execution_count": null,
      "outputs": []
    },
    {
      "cell_type": "code",
      "source": [
        "Using RegEx, process the following txt and produce the expected output -\n",
        "\n",
        "      txt = \"Programming Portal - Keep Coding\"\n",
        "\n",
        "      # Write your RegEx expression(s) here\n",
        "      print(result)\n",
        "\n",
        "      # Expected output --> ['rog', 'ram', 'rta']"
      ],
      "metadata": {
        "id": "ZKBQJEC_F89R"
      },
      "execution_count": null,
      "outputs": []
    },
    {
      "cell_type": "code",
      "source": [
        "Write code to process the provided file, whitehouse.json, and display -\n",
        "      + the value of the link attribute\n",
        "      + the value of the city attribute of the location object?\n",
        "      + the value of the name of the first object inside the category_list list\n",
        "\n",
        "## Expected outputs -->\n",
        "https://www.facebook.com/WhiteHouse # link\n",
        "Washington #city\n",
        "Historical Place # name of first object of category_list\n",
        "\n",
        "For the toolbar, press ALT+F10 (PC) or ALT+FN+F10 (Mac)."
      ],
      "metadata": {
        "id": "Mvs5TncrGHcD"
      },
      "execution_count": null,
      "outputs": []
    },
    {
      "cell_type": "code",
      "source": [
        "You are given a string of lowercase words representing the integers zero through nine, separated by underscores.  (See Example.)\n",
        "\n",
        "Given the string, return the integers (values) in sorted order.\n",
        "\n",
        "\n",
        "# Example\n",
        "# info: 'four_one_nine'\n",
        "# output --> 149"
      ],
      "metadata": {
        "id": "T2kipEJRGJs0"
      },
      "execution_count": null,
      "outputs": []
    },
    {
      "cell_type": "code",
      "source": [
        "Which of the following statement(s) is true about tuple?  (Select one or more choices that best answer the question.)\n",
        "\ta.\tPython views student_tuple[2] as the element of the tuple containing the list [98, 75, 87], then uses [1] to access the list element containing 75\n",
        "\tb.\tEven though the tuple in Part (a) is immutable, its list element is mutable\n",
        "\tc.\tThe following code creates a student_tuple with a first name, last name and list of grades:\n",
        "     student_tuple = (‘Amada’, ‘Blue’, [98,75,87])"
      ],
      "metadata": {
        "id": "5Cif4YzyGKKf"
      },
      "execution_count": null,
      "outputs": []
    },
    {
      "cell_type": "code",
      "source": [
        "Create the following “output” using list comprehension.\n",
        "      # Output --> [49, 36, 25, 16, 9, 4]"
      ],
      "metadata": {
        "id": "EsUTcfVcGNNY"
      },
      "execution_count": null,
      "outputs": []
    },
    {
      "cell_type": "code",
      "source": [
        "Implement code to output the expected list of numbers from our (original) list of phone numbers.  You will need to remove all MD numbers from the original list.\n",
        "\n",
        "MD_area_codes = [‘301’, ‘240’, ‘443’, ‘410’]\n",
        "\n",
        "# Our (original) list of phone numbers\n",
        "301-123-1234\n",
        "703-123-4545\n",
        "410-888-9765\n",
        "571-246-1111\n",
        "202-111-9876\n",
        "240-555-3322\n",
        "443-678-2468\n",
        "\n",
        "# Expected list of numbers -\n",
        "703-123-4545\n",
        "571-246-1111\n",
        "202-111-9876"
      ],
      "metadata": {
        "id": "sUIvfkWXGPet"
      },
      "execution_count": null,
      "outputs": []
    },
    {
      "cell_type": "code",
      "source": [
        "Write code to -\n",
        "      + convert the following DataFrame into a dictionary using ‘Item’ as the key and ‘Price’ as the corresponding value for each key.\n",
        "\n",
        "      df = pd.DataFrame({'Item':['T','U','V','W','X'],'Price':[950,850,750,650,550]})Write a function, zero_sum, that will accepts any number of integer arguments. The function should return True if the sum of its arguments is zero; otherwise, it should return False.\n",
        "\n",
        "Here are some examples of calling the function -\n",
        "      + zero_sum(2, 3, -5) would evaluate to True, since 2 + 3 + -5 = 0\n",
        "      + zero_sum(2, 3, -10, 4) evaluates to False because 2 + 3 + -10 + 4 = 1\n",
        "      + zero_sum() should return True since it’s called with no arguments"
      ],
      "metadata": {
        "id": "GAinhifrGScj"
      },
      "execution_count": null,
      "outputs": []
    },
    {
      "cell_type": "code",
      "source": [
        "Write code to extract the postcodes from below data -\n",
        "\n",
        "data = {\n",
        "    'Name': 'Tom',\n",
        "    'Email': ['tom@home','tom@work','tom@gmail'],\n",
        "    'Address':\n",
        "        [{'Line1': '1 High St','Line2': 'Bridge of Allan', 'Postcode': 'FK9 4LA'},\n",
        "         {'Line1': '1 Wallace St','Line2': 'Causewayhead', 'Postcode': 'FK9 5QW'}]\n",
        "}\n",
        "\n",
        "\n",
        "      # Your output-\n",
        "      Postcode: FK9 4LA\n",
        "      Postcode: FK9 5QW"
      ],
      "metadata": {
        "id": "YIyvOPH1GUHE"
      },
      "execution_count": null,
      "outputs": []
    },
    {
      "cell_type": "code",
      "source": [
        "\n",
        "You will need to complete a set of hands-on activities using Google Colab (or an IDE environment of your choice) .  This question is worth approximately 33% of the exam grade.  However, you may want to consider completing it as your last exam question.\n",
        "\n",
        "Next steps:\n",
        "\n",
        "Download (and uncompress) the provided zip file to your PC\n",
        "Upload the provided data and ipynb files to Colab (or your IDE)\n",
        "Append (rename) the ipynb file and include your name to something like your-name-exam-2.ipynb\n",
        "Complete the hands-on activities as specified\n",
        "When it's time to submit, attach your completed ipynb file to this question\n",
        "Submitting your work as a Course Mail message is discouraged\n",
        "I will only consider accepting any Course Mail message if it's received within 15 minutes from the exam's completion time.  Clearly articular your situation in your Course Mail message, should that be the case\n",
        "This is absolutely your last option; do not submit your work by any other means\n",
        "Double check your work\n",
        "Plan accordingly"
      ],
      "metadata": {
        "id": "DJzySE4GGdnq"
      },
      "execution_count": null,
      "outputs": []
    },
    {
      "cell_type": "code",
      "source": [
        "You would be able to create a DataFrame in Pandas from  ________. (Select one or more choices that best answer the question.)\n",
        "\ta.\ta list\n",
        "\tb.\ta scalar value\n",
        "\tc.\ta dictionary\n",
        "\td.\tan ndarray"
      ],
      "metadata": {
        "id": "sMFUQHYzGfcs"
      },
      "execution_count": null,
      "outputs": []
    },
    {
      "cell_type": "code",
      "source": [
        "When this (concepts) is used, ________, the following steps are involved -\n",
        "      + process data from a website\n",
        "      + parse data based on the HTML tags\n",
        "      + utilize or display desired information\n"
      ],
      "metadata": {
        "id": "coXRFg5xGhyQ"
      },
      "execution_count": null,
      "outputs": []
    }
  ]
}